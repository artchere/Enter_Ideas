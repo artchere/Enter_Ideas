{
 "cells": [
  {
   "cell_type": "markdown",
   "metadata": {},
   "source": [
    "## Description"
   ]
  },
  {
   "cell_type": "markdown",
   "metadata": {},
   "source": [
    "Сделать проект по классификации наличия святого Георгия на изображении. В папке есть два файла со списком картинок: Георгиев и не Георгиев. Нужно сделать jupyter notebook, в котором будет обучаться модель классификации Георгиев и не Георгиев.\n",
    "\n",
    "Скачать файлы можно при помощи wget: `wget --random-wait -i filename.txt`. Ссылка на папку для копирования: https://drive.google.com/drive/folders/1hXAjwpBj6shfWd1taWMFpSqelFCzi6KJ?usp=sharing\n",
    "\n",
    "#### Метрика:\n",
    "- Accuracy\n",
    "\n",
    "#### Публичность и переиспользование:\n",
    "- У всех ячеек с открытием картинок должен быть удален output, чтобы не нарушать ничьих прав."
   ]
  },
  {
   "cell_type": "code",
   "execution_count": 1,
   "metadata": {},
   "outputs": [],
   "source": [
    "import wget\n",
    "import os\n",
    "\n",
    "import cv2\n",
    "import mahotas\n",
    "import matplotlib.pyplot as plt\n",
    "\n",
    "import pandas as pd\n",
    "import numpy as np\n",
    "\n",
    "from sklearn.pipeline import Pipeline\n",
    "from sklearn.preprocessing import MinMaxScaler, FunctionTransformer\n",
    "from sklearn.model_selection import cross_val_score, train_test_split, GridSearchCV, learning_curve\n",
    "from sklearn.metrics import classification_report\n",
    "from sklearn.ensemble import RandomForestClassifier"
   ]
  },
  {
   "cell_type": "code",
   "execution_count": 2,
   "metadata": {},
   "outputs": [
    {
     "data": {
      "text/plain": [
       "'1.4.11'"
      ]
     },
     "execution_count": 2,
     "metadata": {},
     "output_type": "execute_result"
    }
   ],
   "source": [
    "mahotas.__version__"
   ]
  },
  {
   "cell_type": "code",
   "execution_count": 3,
   "metadata": {},
   "outputs": [
    {
     "data": {
      "text/plain": [
       "'3.2'"
      ]
     },
     "execution_count": 3,
     "metadata": {},
     "output_type": "execute_result"
    }
   ],
   "source": [
    "wget.__version__"
   ]
  },
  {
   "cell_type": "markdown",
   "metadata": {},
   "source": [
    "## Downloading & reading"
   ]
  },
  {
   "cell_type": "code",
   "execution_count": 4,
   "metadata": {},
   "outputs": [],
   "source": [
    "# Reading csv with removing duplicates:\n",
    "source_g = pd.read_csv('georges.csv', header=None, names=['url']).drop_duplicates(subset=['url'], keep=False)\n",
    "source_ng = pd.read_csv('non_georges.csv', header=None, names=['url']).drop_duplicates(subset=['url'], keep=False)"
   ]
  },
  {
   "cell_type": "code",
   "execution_count": 5,
   "metadata": {},
   "outputs": [
    {
     "data": {
      "text/html": [
       "<div>\n",
       "<style scoped>\n",
       "    .dataframe tbody tr th:only-of-type {\n",
       "        vertical-align: middle;\n",
       "    }\n",
       "\n",
       "    .dataframe tbody tr th {\n",
       "        vertical-align: top;\n",
       "    }\n",
       "\n",
       "    .dataframe thead th {\n",
       "        text-align: right;\n",
       "    }\n",
       "</style>\n",
       "<table border=\"1\" class=\"dataframe\">\n",
       "  <thead>\n",
       "    <tr style=\"text-align: right;\">\n",
       "      <th></th>\n",
       "      <th>url</th>\n",
       "    </tr>\n",
       "  </thead>\n",
       "  <tbody>\n",
       "    <tr>\n",
       "      <th>1</th>\n",
       "      <td>https://i.pinimg.com/736x/47/b9/9a/47b99a2ddcd...</td>\n",
       "    </tr>\n",
       "    <tr>\n",
       "      <th>2</th>\n",
       "      <td>https://i.pinimg.com/736x/90/e8/90/90e890f054b...</td>\n",
       "    </tr>\n",
       "    <tr>\n",
       "      <th>3</th>\n",
       "      <td>https://i.pinimg.com/736x/0a/71/6f/0a716f6f14e...</td>\n",
       "    </tr>\n",
       "    <tr>\n",
       "      <th>4</th>\n",
       "      <td>https://i.pinimg.com/736x/f1/95/be/f195bea0b78...</td>\n",
       "    </tr>\n",
       "    <tr>\n",
       "      <th>5</th>\n",
       "      <td>https://i.pinimg.com/736x/78/da/54/78da54b8fa9...</td>\n",
       "    </tr>\n",
       "  </tbody>\n",
       "</table>\n",
       "</div>"
      ],
      "text/plain": [
       "                                                 url\n",
       "1  https://i.pinimg.com/736x/47/b9/9a/47b99a2ddcd...\n",
       "2  https://i.pinimg.com/736x/90/e8/90/90e890f054b...\n",
       "3  https://i.pinimg.com/736x/0a/71/6f/0a716f6f14e...\n",
       "4  https://i.pinimg.com/736x/f1/95/be/f195bea0b78...\n",
       "5  https://i.pinimg.com/736x/78/da/54/78da54b8fa9..."
      ]
     },
     "execution_count": 5,
     "metadata": {},
     "output_type": "execute_result"
    }
   ],
   "source": [
    "source_g.head()"
   ]
  },
  {
   "cell_type": "code",
   "execution_count": 7,
   "metadata": {},
   "outputs": [
    {
     "name": "stdout",
     "output_type": "stream",
     "text": [
      "Количество изображений с Георгием: 2092\n",
      "Количество изображений без Георгия: 3314\n"
     ]
    }
   ],
   "source": [
    "print('Количество изображений с Георгием: {}\\nКоличество изображений без Георгия: {}'.format(len(source_g),\n",
    "                                                                                             len(source_ng)))"
   ]
  },
  {
   "cell_type": "markdown",
   "metadata": {},
   "source": [
    "Оверсемплингом заниматься не планирую, поэтому просто сравняю число загружаемых картинок в обоих классах по миноритарному:"
   ]
  },
  {
   "cell_type": "code",
   "execution_count": 8,
   "metadata": {},
   "outputs": [
    {
     "data": {
      "text/plain": [
       "2092"
      ]
     },
     "execution_count": 8,
     "metadata": {},
     "output_type": "execute_result"
    }
   ],
   "source": [
    "# Index equation:\n",
    "source_ng = source_ng.iloc[:source_g.shape[0], :]\n",
    "len(source_ng)"
   ]
  },
  {
   "cell_type": "code",
   "execution_count": 9,
   "metadata": {},
   "outputs": [],
   "source": [
    "# Lists with sources & class names:\n",
    "sources = [source_g, source_ng]\n",
    "label_names = ['georges', 'non_georges']"
   ]
  },
  {
   "cell_type": "code",
   "execution_count": 14,
   "metadata": {},
   "outputs": [],
   "source": [
    "# Data downloading & paths creating:\n",
    "def get_download(path_names, sources):\n",
    "    \n",
    "    # Current directory:\n",
    "    directory = os.getcwd()\n",
    "    \n",
    "    # File paths:\n",
    "    paths = [os.path.join(directory, name) for name in path_names]\n",
    "    \n",
    "    # Paths creating:\n",
    "    for path in paths:\n",
    "        try:\n",
    "            os.mkdir(path)\n",
    "        except OSError as error:\n",
    "            print(error)\n",
    "        else:\n",
    "            print('Successfully created directory {}'.format(path))\n",
    "    \n",
    "    # Data downloading:\n",
    "    for path, source in zip(paths, sources):\n",
    "        source.loc[:, 'url'].apply(lambda x: wget.download(x, out=os.path.join(directory, path)))\n",
    "        \n",
    "    return paths"
   ]
  },
  {
   "cell_type": "code",
   "execution_count": 16,
   "metadata": {
    "code_folding": []
   },
   "outputs": [
    {
     "name": "stdout",
     "output_type": "stream",
     "text": [
      "Successfully created directory C:\\Users\\Che\\Enter_Ideas_Task1\\georges\n",
      "Successfully created directory C:\\Users\\Che\\Enter_Ideas_Task1\\non_georges\n",
      "100% [............................................................................] 132872 / 132872"
     ]
    }
   ],
   "source": [
    "# Start:\n",
    "paths = get_download(label_names, sources)"
   ]
  },
  {
   "cell_type": "code",
   "execution_count": 17,
   "metadata": {},
   "outputs": [],
   "source": [
    "# Reading images to arrays:\n",
    "def get_data(paths):\n",
    "    \n",
    "    # Reading with resizing:\n",
    "    array_g = [cv2.resize(cv2.imread(os.path.join(paths[0], x)), (300, 300), interpolation = cv2.INTER_CUBIC)\n",
    "                          for x in os.listdir(paths[0])]\n",
    "    \n",
    "    array_ng = [cv2.resize(cv2.imread(os.path.join(paths[1], x)), (300, 300), interpolation = cv2.INTER_CUBIC)\n",
    "                           for x in os.listdir(paths[1])]\n",
    "    \n",
    "    return array_g, array_ng"
   ]
  },
  {
   "cell_type": "code",
   "execution_count": 19,
   "metadata": {},
   "outputs": [
    {
     "name": "stdout",
     "output_type": "stream",
     "text": [
      "Wall time: 56.4 s\n"
     ]
    },
    {
     "data": {
      "text/plain": [
       "(4184, 300, 300, 3)"
      ]
     },
     "execution_count": 19,
     "metadata": {},
     "output_type": "execute_result"
    }
   ],
   "source": [
    "%%time\n",
    "# Get data:\n",
    "x_g, x_ng = get_data(paths)\n",
    "\n",
    "# Targets creating:\n",
    "y = np.ravel([1 for x in range(len(x_g))] + [0 for x in range(len(x_ng))])\n",
    "\n",
    "# Arrays concatenate:\n",
    "X = np.vstack((x_g, x_ng))\n",
    "\n",
    "X.shape"
   ]
  },
  {
   "cell_type": "code",
   "execution_count": 20,
   "metadata": {},
   "outputs": [],
   "source": [
    "# Data splitting:\n",
    "data_train, data_test, label_train, label_test = train_test_split(X, y,\n",
    "                                                                  random_state=0,\n",
    "                                                                  stratify=y,\n",
    "                                                                  shuffle=True,\n",
    "                                                                  test_size=0.2)"
   ]
  },
  {
   "cell_type": "code",
   "execution_count": null,
   "metadata": {},
   "outputs": [],
   "source": [
    "# Изображения с Георгием (output не осуществляю, следуя условиям задачи)\n",
    "fig, axes = plt.subplots(2, 5, figsize=(18, 6))\n",
    "fig.suptitle('First 10 images with George in data', fontsize=14)\n",
    "\n",
    "for x in range(0, 10):\n",
    "    axes[x//5, x%5].imshow(X[x])\n",
    "\n",
    "plt.show()"
   ]
  },
  {
   "cell_type": "markdown",
   "metadata": {},
   "source": [
    "## Feature extraction\n",
    "\n",
    "Обучение на имеющихся данных (без предобработки) результата практически не принесло, получилась константная модель. Конечно, хорошо выраженные контуры на датасете типа MNIST могли бы зайти, но в данном кейсе изображения намного сложнее. Я решил сгенерировать несколько признаков, обобщающих текстуру, цветовую гистограмму и моменты изображения, а также сделал небольшую аугментацию. Функцию обернул в трансформер для дальнейшего использования в пайплайне препроцессинга."
   ]
  },
  {
   "cell_type": "code",
   "execution_count": 22,
   "metadata": {
    "code_folding": [
     1
    ]
   },
   "outputs": [],
   "source": [
    "# Feature extracting for array of images: Moments, Haralick textures & Color Histogram:\n",
    "def get_features(data):\n",
    "    \n",
    "    all_features = []\n",
    "    \n",
    "    for x in data:\n",
    "        # Augmentations:\n",
    "        img_flip = np.fliplr(x)\n",
    "        img_rot90 = np.rot90(x)\n",
    "        img_rot270 = np.rot90(x, 3)\n",
    "    \n",
    "        # Convert the image to grayscale & HSV color-space:\n",
    "        img_gray = cv2.cvtColor(x, cv2.COLOR_BGR2GRAY)\n",
    "        img_gray_flip = cv2.cvtColor(img_flip, cv2.COLOR_BGR2GRAY)\n",
    "        img_gray_rot90 = cv2.cvtColor(img_rot90, cv2.COLOR_BGR2GRAY)\n",
    "        img_gray_rot270 = cv2.cvtColor(img_rot270, cv2.COLOR_BGR2GRAY)\n",
    "        \n",
    "        img_hsv = cv2.cvtColor(x, cv2.COLOR_BGR2HSV)\n",
    "        img_hsv_flip = cv2.cvtColor(img_flip, cv2.COLOR_BGR2HSV)\n",
    "        img_hsv_rot90 = cv2.cvtColor(img_rot90, cv2.COLOR_BGR2HSV)\n",
    "        img_hsv_rot270 = cv2.cvtColor(img_rot270, cv2.COLOR_BGR2HSV)\n",
    "    \n",
    "        # Compute Moments, Haralick & color histogram features:\n",
    "        moment = np.asarray(list(cv2.moments(img_gray).values())).flatten()\n",
    "        moment_flip = np.asarray(list(cv2.moments(img_gray_flip).values())).flatten()\n",
    "        moment_rot90 = np.asarray(list(cv2.moments(img_gray_rot90).values())).flatten()\n",
    "        moment_rot270 = np.asarray(list(cv2.moments(img_gray_rot270).values())).flatten()\n",
    "        \n",
    "        haralick = mahotas.features.haralick(img_gray).mean(axis=0)\n",
    "        haralick_flip = mahotas.features.haralick(img_gray_flip).mean(axis=0)\n",
    "        haralick_rot90 = mahotas.features.haralick(img_gray_rot90).mean(axis=0)\n",
    "        haralick_rot270 = mahotas.features.haralick(img_gray_rot270).mean(axis=0)\n",
    "        \n",
    "        hist = cv2.calcHist([img_hsv],\n",
    "                            [0, 1, 2],\n",
    "                            None,\n",
    "                            [6, 6, 6],\n",
    "                            [0, 256, 0, 256, 0, 256]).flatten()\n",
    "        hist_flip = cv2.calcHist([img_hsv_flip],\n",
    "                            [0, 1, 2],\n",
    "                            None,\n",
    "                            [6, 6, 6],\n",
    "                            [0, 256, 0, 256, 0, 256]).flatten()\n",
    "        hist_rot90 = cv2.calcHist([img_rot90],\n",
    "                            [0, 1, 2],\n",
    "                            None,\n",
    "                            [6, 6, 6],\n",
    "                            [0, 256, 0, 256, 0, 256]).flatten()\n",
    "        hist_rot270 = cv2.calcHist([img_rot270],\n",
    "                            [0, 1, 2],\n",
    "                            None,\n",
    "                            [6, 6, 6],\n",
    "                            [0, 256, 0, 256, 0, 256]).flatten()\n",
    "    \n",
    "        # Normalize the histogram:\n",
    "        cv2.normalize(hist, hist)\n",
    "        cv2.normalize(hist_flip, hist_flip)\n",
    "        cv2.normalize(hist_rot90, hist_rot90)\n",
    "        cv2.normalize(hist_rot270, hist_rot270)\n",
    "    \n",
    "        # Concatenate features:\n",
    "        features = np.hstack([moment, haralick, hist,\n",
    "                              moment_flip, haralick_flip, hist_flip,\n",
    "                              moment_rot90, haralick_rot90, hist_rot90,\n",
    "                              moment_rot270, haralick_rot270, hist_rot270])\n",
    "        \n",
    "        # Append new data to array:\n",
    "        all_features.append(features)\n",
    "\n",
    "    return all_features"
   ]
  },
  {
   "cell_type": "code",
   "execution_count": 23,
   "metadata": {},
   "outputs": [],
   "source": [
    "# Convert to transformer:\n",
    "Extractor = FunctionTransformer(get_features)"
   ]
  },
  {
   "cell_type": "markdown",
   "metadata": {},
   "source": [
    "## Data preparation"
   ]
  },
  {
   "cell_type": "code",
   "execution_count": 24,
   "metadata": {},
   "outputs": [],
   "source": [
    "# Simple pipeline for data preprocessing:\n",
    "preprocessor = Pipeline([('Extractor', Extractor),\n",
    "                         ('Scaler', MinMaxScaler())])"
   ]
  },
  {
   "cell_type": "code",
   "execution_count": 25,
   "metadata": {},
   "outputs": [
    {
     "name": "stdout",
     "output_type": "stream",
     "text": [
      "Wall time: 10min 23s\n"
     ]
    }
   ],
   "source": [
    "%%time\n",
    "# Get prep. data:\n",
    "x_train = preprocessor.fit_transform(data_train)\n",
    "x_test = preprocessor.fit_transform(data_test)"
   ]
  },
  {
   "cell_type": "code",
   "execution_count": 26,
   "metadata": {},
   "outputs": [
    {
     "data": {
      "text/plain": [
       "(3347, 1012)"
      ]
     },
     "execution_count": 26,
     "metadata": {},
     "output_type": "execute_result"
    }
   ],
   "source": [
    "x_train.shape"
   ]
  },
  {
   "cell_type": "markdown",
   "metadata": {},
   "source": [
    "## GridSearch, training"
   ]
  },
  {
   "cell_type": "code",
   "execution_count": 27,
   "metadata": {},
   "outputs": [],
   "source": [
    "# Classifiers:\n",
    "rfc = RandomForestClassifier(random_state=0,\n",
    "                             n_jobs=-1)\n",
    "# Params for clfs:\n",
    "params_rfc = {'n_estimators': [80, 120, 140, 160, 180],\n",
    "              'max_depth': [6, 8, 10],\n",
    "              'min_samples_split': [2, 4, 6],\n",
    "              'min_samples_leaf': [1, 3]}"
   ]
  },
  {
   "cell_type": "code",
   "execution_count": 28,
   "metadata": {},
   "outputs": [
    {
     "name": "stdout",
     "output_type": "stream",
     "text": [
      "Classifier: RandomForestClassifier(n_jobs=-1, random_state=0)\n",
      "With parameters: {'max_depth': 10, 'min_samples_leaf': 3, 'min_samples_split': 2, 'n_estimators': 140}\n",
      "Has best Accuracy: 0.7340825926461685\n",
      "\n",
      "Wall time: 5min 43s\n"
     ]
    }
   ],
   "source": [
    "%%time\n",
    "# Searcher:\n",
    "grid = GridSearchCV(rfc, params_rfc,\n",
    "                    scoring='accuracy',\n",
    "                    cv=3, n_jobs=-1)\n",
    "# Start training:\n",
    "grid.fit(x_train, label_train)\n",
    "        \n",
    "# Results:\n",
    "print('Classifier: {}\\nWith parameters: {}\\nHas best Accuracy: {}\\n'.format(rfc,\n",
    "                                                                            grid.best_params_,\n",
    "                                                                            grid.best_score_))"
   ]
  },
  {
   "cell_type": "code",
   "execution_count": 31,
   "metadata": {},
   "outputs": [
    {
     "name": "stdout",
     "output_type": "stream",
     "text": [
      "Mean accuracy on 3-fold validation data: 0.702\n",
      "\n",
      "               precision    recall  f1-score   support\n",
      "\n",
      "     georges       0.70      0.74      0.72       419\n",
      " non_georges       0.73      0.69      0.71       418\n",
      "\n",
      "    accuracy                           0.71       837\n",
      "   macro avg       0.71      0.71      0.71       837\n",
      "weighted avg       0.71      0.71      0.71       837\n",
      "\n"
     ]
    }
   ],
   "source": [
    "print('Mean accuracy on 3-fold validation data: {}\\n\\n'.format(round(cross_val_score(grid.best_estimator_, x_test, label_test,\n",
    "                                                                                     scoring='accuracy').mean(), 3)),\n",
    "      classification_report(label_test, grid.best_estimator_.predict(x_test), target_names=label_names))"
   ]
  },
  {
   "cell_type": "code",
   "execution_count": 51,
   "metadata": {},
   "outputs": [
    {
     "data": {
      "text/plain": [
       "RandomForestClassifier(max_depth=14, n_estimators=80, n_jobs=-1, random_state=0)"
      ]
     },
     "execution_count": 51,
     "metadata": {},
     "output_type": "execute_result"
    }
   ],
   "source": [
    "# \n",
    "rf = RandomForestClassifier(n_estimators=80, \n",
    "                            random_state=0,\n",
    "                            max_depth=14,\n",
    "                            n_jobs=-1)\n",
    "\n",
    "rf.fit(x_train, label_train)"
   ]
  },
  {
   "cell_type": "code",
   "execution_count": 52,
   "metadata": {},
   "outputs": [
    {
     "name": "stdout",
     "output_type": "stream",
     "text": [
      "Mean accuracy on 3-fold validation data: 0.701\n",
      "\n",
      "               precision    recall  f1-score   support\n",
      "\n",
      "     georges       0.70      0.78      0.73       419\n",
      " non_georges       0.75      0.66      0.70       418\n",
      "\n",
      "    accuracy                           0.72       837\n",
      "   macro avg       0.72      0.72      0.72       837\n",
      "weighted avg       0.72      0.72      0.72       837\n",
      "\n"
     ]
    }
   ],
   "source": [
    "print('Mean accuracy on 3-fold validation data: {}\\n\\n'.format(round(cross_val_score(rf, x_test, label_test,\n",
    "                                                                                     scoring='accuracy').mean(), 3)),\n",
    "      classification_report(label_test, rf.predict(x_test), target_names=label_names))"
   ]
  },
  {
   "cell_type": "code",
   "execution_count": 34,
   "metadata": {},
   "outputs": [],
   "source": [
    "def plot_learning_curve(estimator, title, X, y, axes=None, ylim=None,\n",
    "                        train_sizes=np.linspace(.1, 1.0, 5)):\n",
    "    if axes is None:\n",
    "        _, axes = plt.subplots(1, 1, figsize=(12, 6))\n",
    "\n",
    "    axes.set_title(title)\n",
    "    if ylim is not None:\n",
    "        axes.set_ylim(*ylim)\n",
    "    axes.set_xlabel(\"Training examples\")\n",
    "    axes.set_ylabel(\"Score\")\n",
    "\n",
    "    train_sizes, train_scores, test_scores = learning_curve(estimator, X, y, cv=3, n_jobs=-1,\n",
    "                                                            train_sizes=train_sizes,\n",
    "                                                            return_times=False)\n",
    "    train_scores_mean = np.mean(train_scores, axis=1)\n",
    "    train_scores_std = np.std(train_scores, axis=1)\n",
    "    test_scores_mean = np.mean(test_scores, axis=1)\n",
    "    test_scores_std = np.std(test_scores, axis=1)\n",
    "\n",
    "    # Plot learning curve\n",
    "    axes.grid()\n",
    "    axes.fill_between(train_sizes, train_scores_mean - train_scores_std,\n",
    "                         train_scores_mean + train_scores_std, alpha=0.1,\n",
    "                         color=\"r\")\n",
    "    axes.fill_between(train_sizes, test_scores_mean - test_scores_std,\n",
    "                         test_scores_mean + test_scores_std, alpha=0.1,\n",
    "                         color=\"g\")\n",
    "    axes.plot(train_sizes, train_scores_mean, 'o-', color=\"r\",\n",
    "                 label=\"Training score\")\n",
    "    axes.plot(train_sizes, test_scores_mean, 'o-', color=\"g\",\n",
    "                 label=\"Cross-validation score\")\n",
    "    axes.legend(loc=\"best\")\n",
    "\n",
    "    return plt"
   ]
  },
  {
   "cell_type": "code",
   "execution_count": 54,
   "metadata": {},
   "outputs": [
    {
     "data": {
      "image/png": "[encoded data removed]",
      "text/plain": [
       "<Figure size 864x432 with 1 Axes>"
      ]
     },
     "metadata": {
      "needs_background": "light"
     },
     "output_type": "display_data"
    }
   ],
   "source": [
    "fig, axes = plt.subplots(1, 1, figsize=(12, 6))\n",
    "\n",
    "title = \"Learning Curves (Random Forest)\"\n",
    "\n",
    "estimator = rf #####\n",
    "plot_learning_curve(estimator, title, x_train, label_train, axes=axes, ylim=(0.6, 1.01)) #####\n",
    "\n",
    "title = r\"Learning Curves\"\n",
    "\n",
    "plt.show()"
   ]
  },
  {
   "cell_type": "markdown",
   "metadata": {},
   "source": [
    "Модель обучена на 80% данных.\n",
    "\n",
    "Предполагаю, что с ростом количества данных качество классификации существенно увеличится.\n",
    "\n",
    "Это моё первое погружение в CV, и по объективным причинам задача выполнена с использованием классического ML.\n",
    "Возможно, я получил неплохой результат, если сравнивать с non-pretrained сетями.\n",
    "Далее буду погружаться в DL-фреймворки."
   ]
  },
  {
   "cell_type": "code",
   "execution_count": null,
   "metadata": {},
   "outputs": [],
   "source": [
    "# Классифицируем и отобразим первые 10 картинок из валидационной выборки:\n",
    "fig, axes = plt.subplots(2, 5, figsize=(18, 8))\n",
    "fig.suptitle('Classificated images', fontsize=14)\n",
    "\n",
    "prep_data = preprocessor.fit_transform(data_test[:10])\n",
    "predictions = rf.predict(prep_data)\n",
    "label_pred = list(map(lambda x: 'George' if x==0 else 'Non George', predictions))\n",
    "\n",
    "for idx, name in zip(range(0, 10), label_pred):\n",
    "    axes[idx//5, idx%5].imshow(data_test[idx])\n",
    "    axes[idx//5, idx%5].set_title(name)\n",
    "    \n",
    "plt.show()"
   ]
  }
 ],
 "metadata": {
  "kernelspec": {
   "display_name": "Python 3",
   "language": "python",
   "name": "python3"
  },
  "language_info": {
   "codemirror_mode": {
    "name": "ipython",
    "version": 3
   },
   "file_extension": ".py",
   "mimetype": "text/x-python",
   "name": "python",
   "nbconvert_exporter": "python",
   "pygments_lexer": "ipython3",
   "version": "3.8.5"
  }
 },
 "nbformat": 4,
 "nbformat_minor": 4
}
