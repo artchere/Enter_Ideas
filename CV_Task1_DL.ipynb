{
 "cells": [
  {
   "cell_type": "markdown",
   "metadata": {},
   "source": [
    "## Description\n",
    "\n",
    "Сделать проект по классификации наличия святого Георгия на изображении. В папке есть два файла со списком картинок: Георгиев и не Георгиев. Нужно сделать jupyter notebook, в котором будет обучаться модель классификации Георгиев и не Георгиев.\n",
    "\n",
    "Скачать файлы можно при помощи wget: `wget --random-wait -i filename.txt`. Ссылка на папку для копирования: https://drive.google.com/drive/folders/1hXAjwpBj6shfWd1taWMFpSqelFCzi6KJ?usp=sharing\n",
    "\n",
    "#### Метрика:\n",
    "- Accuracy\n",
    "\n",
    "#### Публичность и переиспользование:\n",
    "- У всех ячеек с открытием картинок должен быть удален output, чтобы не нарушать ничьих прав."
   ]
  },
  {
   "cell_type": "code",
   "execution_count": 2,
   "metadata": {},
   "outputs": [],
   "source": [
    "import os\n",
    "\n",
    "import matplotlib.pyplot as plt\n",
    "\n",
    "import pandas as pd\n",
    "import numpy as np\n",
    "\n",
    "from sklearn.metrics import classification_report"
   ]
  },
  {
   "cell_type": "code",
   "execution_count": 3,
   "metadata": {},
   "outputs": [],
   "source": [
    "import tensorflow as tf\n",
    "from tensorflow.keras.preprocessing.image import ImageDataGenerator\n",
    "from tensorflow.keras.callbacks import EarlyStopping, ModelCheckpoint\n",
    "\n",
    "import logging\n",
    "logger = tf.get_logger()\n",
    "logger.setLevel(logging.ERROR)"
   ]
  },
  {
   "cell_type": "code",
   "execution_count": 4,
   "metadata": {},
   "outputs": [
    {
     "data": {
      "text/plain": [
       "'2.4.1'"
      ]
     },
     "execution_count": 4,
     "metadata": {},
     "output_type": "execute_result"
    }
   ],
   "source": [
    "tf.__version__"
   ]
  },
  {
   "cell_type": "markdown",
   "metadata": {},
   "source": [
    "## Downloading & reading"
   ]
  },
  {
   "cell_type": "code",
   "execution_count": 5,
   "metadata": {},
   "outputs": [],
   "source": [
    "# Reading csv with removing duplicates:\n",
    "source_g = pd.read_csv('georges.csv', header=None, names=['url']).drop_duplicates(subset=['url'], keep=False)\n",
    "source_ng = pd.read_csv('non_georges.csv', header=None, names=['url']).drop_duplicates(subset=['url'], keep=False)"
   ]
  },
  {
   "cell_type": "code",
   "execution_count": 6,
   "metadata": {},
   "outputs": [
    {
     "data": {
      "text/html": [
       "<div>\n",
       "<style scoped>\n",
       "    .dataframe tbody tr th:only-of-type {\n",
       "        vertical-align: middle;\n",
       "    }\n",
       "\n",
       "    .dataframe tbody tr th {\n",
       "        vertical-align: top;\n",
       "    }\n",
       "\n",
       "    .dataframe thead th {\n",
       "        text-align: right;\n",
       "    }\n",
       "</style>\n",
       "<table border=\"1\" class=\"dataframe\">\n",
       "  <thead>\n",
       "    <tr style=\"text-align: right;\">\n",
       "      <th></th>\n",
       "      <th>url</th>\n",
       "    </tr>\n",
       "  </thead>\n",
       "  <tbody>\n",
       "    <tr>\n",
       "      <th>1</th>\n",
       "      <td>https://i.pinimg.com/736x/47/b9/9a/47b99a2ddcd...</td>\n",
       "    </tr>\n",
       "    <tr>\n",
       "      <th>2</th>\n",
       "      <td>https://i.pinimg.com/736x/90/e8/90/90e890f054b...</td>\n",
       "    </tr>\n",
       "    <tr>\n",
       "      <th>3</th>\n",
       "      <td>https://i.pinimg.com/736x/0a/71/6f/0a716f6f14e...</td>\n",
       "    </tr>\n",
       "    <tr>\n",
       "      <th>4</th>\n",
       "      <td>https://i.pinimg.com/736x/f1/95/be/f195bea0b78...</td>\n",
       "    </tr>\n",
       "    <tr>\n",
       "      <th>5</th>\n",
       "      <td>https://i.pinimg.com/736x/78/da/54/78da54b8fa9...</td>\n",
       "    </tr>\n",
       "  </tbody>\n",
       "</table>\n",
       "</div>"
      ],
      "text/plain": [
       "                                                 url\n",
       "1  https://i.pinimg.com/736x/47/b9/9a/47b99a2ddcd...\n",
       "2  https://i.pinimg.com/736x/90/e8/90/90e890f054b...\n",
       "3  https://i.pinimg.com/736x/0a/71/6f/0a716f6f14e...\n",
       "4  https://i.pinimg.com/736x/f1/95/be/f195bea0b78...\n",
       "5  https://i.pinimg.com/736x/78/da/54/78da54b8fa9..."
      ]
     },
     "execution_count": 6,
     "metadata": {},
     "output_type": "execute_result"
    }
   ],
   "source": [
    "source_g.head()"
   ]
  },
  {
   "cell_type": "code",
   "execution_count": 7,
   "metadata": {},
   "outputs": [
    {
     "name": "stdout",
     "output_type": "stream",
     "text": [
      "Количество изображений с Георгием: 2092\n",
      "Количество изображений без Георгия: 3314\n"
     ]
    }
   ],
   "source": [
    "print('Количество изображений с Георгием: {}\\nКоличество изображений без Георгия: {}'.format(len(source_g),\n",
    "                                                                                             len(source_ng)))"
   ]
  },
  {
   "cell_type": "code",
   "execution_count": 8,
   "metadata": {},
   "outputs": [
    {
     "data": {
      "text/plain": [
       "2092"
      ]
     },
     "execution_count": 8,
     "metadata": {},
     "output_type": "execute_result"
    }
   ],
   "source": [
    "# Index equation:\n",
    "source_ng = source_ng.iloc[:len(source_g), :]\n",
    "len(source_ng)"
   ]
  },
  {
   "cell_type": "code",
   "execution_count": 9,
   "metadata": {},
   "outputs": [],
   "source": [
    "# Lists with sources & class names:\n",
    "source_list = [source_g, source_ng]\n",
    "label_list = ['georges', 'non_georges']"
   ]
  },
  {
   "cell_type": "code",
   "execution_count": 10,
   "metadata": {
    "code_folding": []
   },
   "outputs": [],
   "source": [
    "def get_download(sources, names, test_size):\n",
    "    \n",
    "    # Current directory:\n",
    "    directory = os.getcwd()\n",
    "    \n",
    "    # Lists with dir-names:\n",
    "    dir_list = []\n",
    "    dir_train_test = []\n",
    "    \n",
    "    for dir_1 in ['train_data', 'test_data']:\n",
    "        dir_train_test.append(os.path.join(directory, dir_1))\n",
    "        for dir_2 in names:\n",
    "            dir_list.append(os.path.join(directory, dir_1, dir_2))\n",
    "            \n",
    "    # Downloading:\n",
    "    test_split_idx = round(len(sources[0])*test_size)\n",
    "    splitted_sources = [sources[0].loc[test_split_idx:, 'url'],\n",
    "                        sources[1].loc[test_split_idx:, 'url'],\n",
    "                        sources[0].loc[:test_split_idx, 'url'],\n",
    "                        sources[1].loc[:test_split_idx, 'url']]\n",
    "    \n",
    "    for dir_name, source in zip(dir_list, splitted_sources):\n",
    "        source.apply(lambda x: tf.keras.utils.get_file(x.split('/')[-1],\n",
    "                                                       origin=x,\n",
    "                                                       extract=False,\n",
    "                                                       cache_subdir=dir_name))\n",
    "    \n",
    "    return dir_train_test"
   ]
  },
  {
   "cell_type": "code",
   "execution_count": null,
   "metadata": {
    "scrolled": true
   },
   "outputs": [],
   "source": [
    "# Start downloading:\n",
    "train_dir, test_dir = get_download(source_list, label_list, 0.25)"
   ]
  },
  {
   "cell_type": "code",
   "execution_count": 11,
   "metadata": {},
   "outputs": [],
   "source": [
    "# If data already downloaded with previous function:\n",
    "train_dir, test_dir = [os.path.join(os.getcwd(), x) for x in ['train_data', 'test_data']]"
   ]
  },
  {
   "cell_type": "markdown",
   "metadata": {},
   "source": [
    "## Model creating"
   ]
  },
  {
   "cell_type": "code",
   "execution_count": 21,
   "metadata": {},
   "outputs": [],
   "source": [
    "# Batch & img sizes:\n",
    "BATCH_SIZE = 150\n",
    "IMG_SIZE = 250"
   ]
  },
  {
   "cell_type": "code",
   "execution_count": 106,
   "metadata": {},
   "outputs": [],
   "source": [
    "model = tf.keras.models.Sequential()\n",
    "\n",
    "# Block 1:\n",
    "model.add(tf.keras.layers.Convolution2D(64, 3, 3,\n",
    "                                        input_shape = (IMG_SIZE, IMG_SIZE, 3),\n",
    "                                        activation = 'relu'))\n",
    "model.add(tf.keras.layers.MaxPooling2D(pool_size = (2, 2)))\n",
    "model.add(tf.keras.layers.Dropout(0.1))\n",
    "\n",
    "# Block 2:\n",
    "model.add(tf.keras.layers.Convolution2D(64, 3, 3,\n",
    "                                        activation = 'relu'))\n",
    "model.add(tf.keras.layers.MaxPooling2D(pool_size = (2, 2)))\n",
    "model.add(tf.keras.layers.Dropout(0.1))\n",
    "\n",
    "# Block 3:\n",
    "model.add(tf.keras.layers.Flatten())\n",
    "model.add(tf.keras.layers.Dense(512, activation = 'relu'))\n",
    "model.add(tf.keras.layers.Dropout(0.7))\n",
    "\n",
    "model.add(tf.keras.layers.Dense(1, activation = 'sigmoid'))\n",
    "\n",
    "# Model compilation:\n",
    "model.compile(optimizer='adam',\n",
    "              loss = 'binary_crossentropy',\n",
    "              metrics=['accuracy'])"
   ]
  },
  {
   "cell_type": "code",
   "execution_count": 107,
   "metadata": {},
   "outputs": [
    {
     "name": "stdout",
     "output_type": "stream",
     "text": [
      "Model: \"sequential_21\"\n",
      "_________________________________________________________________\n",
      "Layer (type)                 Output Shape              Param #   \n",
      "=================================================================\n",
      "conv2d_48 (Conv2D)           (None, 83, 83, 64)        1792      \n",
      "_________________________________________________________________\n",
      "max_pooling2d_48 (MaxPooling (None, 41, 41, 64)        0         \n",
      "_________________________________________________________________\n",
      "dropout_58 (Dropout)         (None, 41, 41, 64)        0         \n",
      "_________________________________________________________________\n",
      "conv2d_49 (Conv2D)           (None, 13, 13, 64)        36928     \n",
      "_________________________________________________________________\n",
      "max_pooling2d_49 (MaxPooling (None, 6, 6, 64)          0         \n",
      "_________________________________________________________________\n",
      "dropout_59 (Dropout)         (None, 6, 6, 64)          0         \n",
      "_________________________________________________________________\n",
      "flatten_21 (Flatten)         (None, 2304)              0         \n",
      "_________________________________________________________________\n",
      "dense_42 (Dense)             (None, 512)               1180160   \n",
      "_________________________________________________________________\n",
      "dropout_60 (Dropout)         (None, 512)               0         \n",
      "_________________________________________________________________\n",
      "dense_43 (Dense)             (None, 1)                 513       \n",
      "=================================================================\n",
      "Total params: 1,219,393\n",
      "Trainable params: 1,219,393\n",
      "Non-trainable params: 0\n",
      "_________________________________________________________________\n"
     ]
    }
   ],
   "source": [
    "model.summary()"
   ]
  },
  {
   "cell_type": "code",
   "execution_count": 108,
   "metadata": {},
   "outputs": [
    {
     "name": "stdout",
     "output_type": "stream",
     "text": [
      "Found 3138 images belonging to 2 classes.\n",
      "Found 1046 images belonging to 2 classes.\n"
     ]
    }
   ],
   "source": [
    "# Augmentations:\n",
    "image_gen_train = ImageDataGenerator(rescale=1./255,\n",
    "                                     #featurewise_center=True,\n",
    "                                     #featurewise_std_normalization=True,\n",
    "                                     rotation_range=40, # Поворот на заданный угол\n",
    "                                     #width_shift_range=0.2, # Диапазон сдвига по ширине (до 20%)\n",
    "                                     #height_shift_range=0.2, # Диапазон сдвига по высоте (до 20%)\n",
    "                                     #shear_range=0.2, # Диапазон среза/сдвига (до 20%)\n",
    "                                     #zoom_range=0.25, # Диапазон увеличения (до 20%)\n",
    "                                     horizontal_flip=True, # Отражение по горизонтали\n",
    "                                     fill_mode='nearest')\n",
    "\n",
    "image_gen_test = ImageDataGenerator(rescale=1./255)\n",
    "\n",
    "# Generator fot train data:\n",
    "train_data_gen = image_gen_train.flow_from_directory(batch_size=BATCH_SIZE,\n",
    "                                                     directory=train_dir,\n",
    "                                                     shuffle=True,\n",
    "                                                     target_size=(IMG_SIZE, IMG_SIZE),\n",
    "                                                     class_mode='binary',\n",
    "                                                     interpolation=\"bicubic\")\n",
    "# Generator fot test data:\n",
    "test_data_gen = image_gen_test.flow_from_directory(batch_size=BATCH_SIZE,\n",
    "                                                   directory=test_dir,\n",
    "                                                   target_size=(IMG_SIZE, IMG_SIZE),\n",
    "                                                   class_mode='binary',\n",
    "                                                   interpolation=\"bicubic\")"
   ]
  },
  {
   "cell_type": "code",
   "execution_count": 15,
   "metadata": {},
   "outputs": [],
   "source": [
    "# Func to plot imgs:\n",
    "def plotImages(images_arr):\n",
    "    fig, axes = plt.subplots(1, len(images_arr), figsize=(20,20))\n",
    "    axes = axes.flatten()\n",
    "    for img, ax in zip(images_arr, axes):\n",
    "        ax.imshow(img)\n",
    "    plt.tight_layout()\n",
    "    plt.show()"
   ]
  },
  {
   "cell_type": "code",
   "execution_count": 112,
   "metadata": {},
   "outputs": [],
   "source": [
    "temp = [train_data_gen[0][0][0] for x in range(10)]\n",
    "plotImages(temp)"
   ]
  },
  {
   "cell_type": "markdown",
   "metadata": {},
   "source": [
    "## Training"
   ]
  },
  {
   "cell_type": "code",
   "execution_count": 109,
   "metadata": {
    "scrolled": true
   },
   "outputs": [
    {
     "name": "stdout",
     "output_type": "stream",
     "text": [
      "Epoch 1/40\n",
      "11/11 [==============================] - 95s 9s/step - loss: 0.6888 - accuracy: 0.5459 - val_loss: 0.6625 - val_accuracy: 0.6433\n",
      "\n",
      "Epoch 00001: val_loss improved from inf to 0.66254, saving model to best_model.h5\n",
      "Epoch 2/40\n",
      "11/11 [==============================] - 89s 8s/step - loss: 0.6276 - accuracy: 0.6468 - val_loss: 0.6184 - val_accuracy: 0.6783\n",
      "\n",
      "Epoch 00002: val_loss improved from 0.66254 to 0.61841, saving model to best_model.h5\n",
      "Epoch 3/40\n",
      "11/11 [==============================] - 90s 8s/step - loss: 0.6175 - accuracy: 0.6573 - val_loss: 0.6241 - val_accuracy: 0.6417\n",
      "\n",
      "Epoch 00003: val_loss did not improve from 0.61841\n",
      "Epoch 4/40\n",
      "11/11 [==============================] - 89s 8s/step - loss: 0.6086 - accuracy: 0.6638 - val_loss: 0.6294 - val_accuracy: 0.6300\n",
      "\n",
      "Epoch 00004: val_loss did not improve from 0.61841\n",
      "Epoch 5/40\n",
      "11/11 [==============================] - 89s 8s/step - loss: 0.5969 - accuracy: 0.6620 - val_loss: 0.6187 - val_accuracy: 0.6617\n",
      "\n",
      "Epoch 00005: val_loss did not improve from 0.61841\n",
      "Epoch 6/40\n",
      "11/11 [==============================] - 88s 8s/step - loss: 0.6086 - accuracy: 0.6843 - val_loss: 0.5977 - val_accuracy: 0.6750\n",
      "\n",
      "Epoch 00006: val_loss improved from 0.61841 to 0.59772, saving model to best_model.h5\n",
      "Epoch 7/40\n",
      "11/11 [==============================] - 89s 8s/step - loss: 0.6062 - accuracy: 0.6559 - val_loss: 0.5866 - val_accuracy: 0.6717\n",
      "\n",
      "Epoch 00007: val_loss improved from 0.59772 to 0.58656, saving model to best_model.h5\n",
      "Epoch 8/40\n",
      "11/11 [==============================] - 89s 8s/step - loss: 0.5947 - accuracy: 0.6756 - val_loss: 0.6020 - val_accuracy: 0.6733\n",
      "\n",
      "Epoch 00008: val_loss did not improve from 0.58656\n",
      "Epoch 9/40\n",
      "11/11 [==============================] - 90s 8s/step - loss: 0.5883 - accuracy: 0.6791 - val_loss: 0.5763 - val_accuracy: 0.6967\n",
      "\n",
      "Epoch 00009: val_loss improved from 0.58656 to 0.57629, saving model to best_model.h5\n",
      "Epoch 10/40\n",
      "11/11 [==============================] - 90s 8s/step - loss: 0.5717 - accuracy: 0.7061 - val_loss: 0.6142 - val_accuracy: 0.6517\n",
      "\n",
      "Epoch 00010: val_loss did not improve from 0.57629\n",
      "Epoch 11/40\n",
      "11/11 [==============================] - 88s 8s/step - loss: 0.5807 - accuracy: 0.6871 - val_loss: 0.5706 - val_accuracy: 0.7200\n",
      "\n",
      "Epoch 00011: val_loss improved from 0.57629 to 0.57059, saving model to best_model.h5\n",
      "Epoch 12/40\n",
      "11/11 [==============================] - 90s 8s/step - loss: 0.5517 - accuracy: 0.7096 - val_loss: 0.5630 - val_accuracy: 0.7167\n",
      "\n",
      "Epoch 00012: val_loss improved from 0.57059 to 0.56297, saving model to best_model.h5\n",
      "Epoch 13/40\n",
      "11/11 [==============================] - 90s 8s/step - loss: 0.5853 - accuracy: 0.6805 - val_loss: 0.5594 - val_accuracy: 0.7033\n",
      "\n",
      "Epoch 00013: val_loss improved from 0.56297 to 0.55937, saving model to best_model.h5\n",
      "Epoch 14/40\n",
      "11/11 [==============================] - 89s 8s/step - loss: 0.5807 - accuracy: 0.6882 - val_loss: 0.6032 - val_accuracy: 0.6567\n",
      "\n",
      "Epoch 00014: val_loss did not improve from 0.55937\n",
      "Epoch 15/40\n",
      "11/11 [==============================] - 90s 8s/step - loss: 0.5691 - accuracy: 0.7031 - val_loss: 0.5533 - val_accuracy: 0.7150\n",
      "\n",
      "Epoch 00015: val_loss improved from 0.55937 to 0.55332, saving model to best_model.h5\n",
      "Epoch 16/40\n",
      "11/11 [==============================] - 89s 8s/step - loss: 0.5642 - accuracy: 0.6994 - val_loss: 0.5468 - val_accuracy: 0.7383\n",
      "\n",
      "Epoch 00016: val_loss improved from 0.55332 to 0.54681, saving model to best_model.h5\n",
      "Epoch 17/40\n",
      "11/11 [==============================] - 89s 8s/step - loss: 0.5530 - accuracy: 0.7000 - val_loss: 0.5550 - val_accuracy: 0.7400\n",
      "\n",
      "Epoch 00017: val_loss did not improve from 0.54681\n",
      "Epoch 18/40\n",
      "11/11 [==============================] - 90s 8s/step - loss: 0.5464 - accuracy: 0.7115 - val_loss: 0.5517 - val_accuracy: 0.7267\n",
      "\n",
      "Epoch 00018: val_loss did not improve from 0.54681\n",
      "Epoch 19/40\n",
      "11/11 [==============================] - 89s 8s/step - loss: 0.5449 - accuracy: 0.7126 - val_loss: 0.5603 - val_accuracy: 0.7150\n",
      "\n",
      "Epoch 00019: val_loss did not improve from 0.54681\n",
      "Epoch 20/40\n",
      "11/11 [==============================] - 89s 8s/step - loss: 0.5635 - accuracy: 0.7117 - val_loss: 0.5319 - val_accuracy: 0.7250\n",
      "\n",
      "Epoch 00020: val_loss improved from 0.54681 to 0.53187, saving model to best_model.h5\n",
      "Epoch 21/40\n",
      "11/11 [==============================] - 89s 8s/step - loss: 0.5418 - accuracy: 0.7439 - val_loss: 0.5523 - val_accuracy: 0.7167\n",
      "\n",
      "Epoch 00021: val_loss did not improve from 0.53187\n",
      "Epoch 22/40\n",
      "11/11 [==============================] - 90s 8s/step - loss: 0.5149 - accuracy: 0.7397 - val_loss: 0.5931 - val_accuracy: 0.6750\n",
      "\n",
      "Epoch 00022: val_loss did not improve from 0.53187\n",
      "Epoch 23/40\n",
      "11/11 [==============================] - 89s 8s/step - loss: 0.5584 - accuracy: 0.7175 - val_loss: 0.5290 - val_accuracy: 0.7150\n",
      "\n",
      "Epoch 00023: val_loss improved from 0.53187 to 0.52899, saving model to best_model.h5\n",
      "Epoch 24/40\n",
      "11/11 [==============================] - 90s 8s/step - loss: 0.5251 - accuracy: 0.7404 - val_loss: 0.5416 - val_accuracy: 0.7200\n",
      "\n",
      "Epoch 00024: val_loss did not improve from 0.52899\n",
      "Epoch 25/40\n",
      "11/11 [==============================] - 89s 8s/step - loss: 0.5265 - accuracy: 0.7396 - val_loss: 0.5267 - val_accuracy: 0.7267\n",
      "\n",
      "Epoch 00025: val_loss improved from 0.52899 to 0.52667, saving model to best_model.h5\n",
      "Epoch 26/40\n",
      "11/11 [==============================] - 90s 8s/step - loss: 0.5180 - accuracy: 0.7244 - val_loss: 0.5339 - val_accuracy: 0.7300\n",
      "\n",
      "Epoch 00026: val_loss did not improve from 0.52667\n",
      "Epoch 27/40\n",
      "11/11 [==============================] - 89s 8s/step - loss: 0.5272 - accuracy: 0.7396 - val_loss: 0.5492 - val_accuracy: 0.7267\n",
      "\n",
      "Epoch 00027: val_loss did not improve from 0.52667\n",
      "Epoch 28/40\n",
      "11/11 [==============================] - 89s 8s/step - loss: 0.5302 - accuracy: 0.7412 - val_loss: 0.5211 - val_accuracy: 0.7417\n",
      "\n",
      "Epoch 00028: val_loss improved from 0.52667 to 0.52111, saving model to best_model.h5\n",
      "Epoch 29/40\n",
      "11/11 [==============================] - 90s 8s/step - loss: 0.4887 - accuracy: 0.7595 - val_loss: 0.5347 - val_accuracy: 0.7433\n",
      "\n",
      "Epoch 00029: val_loss did not improve from 0.52111\n",
      "Epoch 30/40\n",
      "11/11 [==============================] - 90s 8s/step - loss: 0.5054 - accuracy: 0.7502 - val_loss: 0.4996 - val_accuracy: 0.7550\n",
      "\n",
      "Epoch 00030: val_loss improved from 0.52111 to 0.49961, saving model to best_model.h5\n",
      "Epoch 31/40\n",
      "11/11 [==============================] - 89s 8s/step - loss: 0.5484 - accuracy: 0.7022 - val_loss: 0.5376 - val_accuracy: 0.7117\n",
      "\n",
      "Epoch 00031: val_loss did not improve from 0.49961\n",
      "Epoch 32/40\n",
      "11/11 [==============================] - 89s 8s/step - loss: 0.5073 - accuracy: 0.7514 - val_loss: 0.5134 - val_accuracy: 0.7367\n",
      "\n",
      "Epoch 00032: val_loss did not improve from 0.49961\n",
      "Epoch 33/40\n",
      "11/11 [==============================] - 90s 8s/step - loss: 0.5313 - accuracy: 0.7271 - val_loss: 0.5147 - val_accuracy: 0.7667\n",
      "\n",
      "Epoch 00033: val_loss did not improve from 0.49961\n",
      "Epoch 34/40\n",
      "11/11 [==============================] - 89s 8s/step - loss: 0.4903 - accuracy: 0.7595 - val_loss: 0.5004 - val_accuracy: 0.7550\n",
      "\n",
      "Epoch 00034: val_loss did not improve from 0.49961\n",
      "Epoch 35/40\n",
      "11/11 [==============================] - 92s 8s/step - loss: 0.5069 - accuracy: 0.7422 - val_loss: 0.5149 - val_accuracy: 0.7383\n",
      "\n",
      "Epoch 00035: val_loss did not improve from 0.49961\n",
      "Epoch 36/40\n",
      "11/11 [==============================] - 89s 8s/step - loss: 0.5042 - accuracy: 0.7552 - val_loss: 0.5305 - val_accuracy: 0.7300\n",
      "\n",
      "Epoch 00036: val_loss did not improve from 0.49961\n",
      "Epoch 37/40\n",
      "11/11 [==============================] - 89s 8s/step - loss: 0.5133 - accuracy: 0.7386 - val_loss: 0.5181 - val_accuracy: 0.7533\n",
      "\n",
      "Epoch 00037: val_loss did not improve from 0.49961\n",
      "Epoch 38/40\n",
      "11/11 [==============================] - 89s 8s/step - loss: 0.4643 - accuracy: 0.7786 - val_loss: 0.5505 - val_accuracy: 0.7250\n",
      "\n",
      "Epoch 00038: val_loss did not improve from 0.49961\n",
      "Epoch 39/40\n",
      "11/11 [==============================] - 89s 8s/step - loss: 0.5172 - accuracy: 0.7330 - val_loss: 0.4749 - val_accuracy: 0.7717\n",
      "\n",
      "Epoch 00039: val_loss improved from 0.49961 to 0.47486, saving model to best_model.h5\n",
      "Epoch 40/40\n",
      "11/11 [==============================] - 90s 8s/step - loss: 0.4889 - accuracy: 0.7528 - val_loss: 0.5016 - val_accuracy: 0.7500\n"
     ]
    },
    {
     "name": "stdout",
     "output_type": "stream",
     "text": [
      "\n",
      "Epoch 00040: val_loss did not improve from 0.47486\n"
     ]
    }
   ],
   "source": [
    "# Stop when loss does not decrease:\n",
    "early_stopping = EarlyStopping(monitor='val_loss',\n",
    "                               patience=10,\n",
    "                               verbose=0,\n",
    "                               mode='min')\n",
    "\n",
    "# Save the model after every epoch:\n",
    "checkpointer = ModelCheckpoint(filepath='best_model.h5',\n",
    "                               verbose=1,\n",
    "                               save_best_only=True)\n",
    "# Let`s go:\n",
    "EPOCHS = 40\n",
    "\n",
    "history = model.fit_generator(train_data_gen,\n",
    "                              steps_per_epoch=int(np.ceil(round(len(source_g)*0.75) / float(BATCH_SIZE))),\n",
    "                              epochs=EPOCHS,\n",
    "                              callbacks=[checkpointer, early_stopping],\n",
    "                              validation_data=test_data_gen,\n",
    "                              validation_steps=int(np.ceil(round(len(source_g)*0.25) / float(BATCH_SIZE))),\n",
    "                              use_multiprocessing=False)"
   ]
  },
  {
   "cell_type": "code",
   "execution_count": 196,
   "metadata": {},
   "outputs": [
    {
     "data": {
      "image/png": "[encoded data removed]",
      "text/plain": [
       "<Figure size 1080x576 with 2 Axes>"
      ]
     },
     "metadata": {
      "needs_background": "light"
     },
     "output_type": "display_data"
    }
   ],
   "source": [
    "acc = history.history['accuracy']\n",
    "val_acc = history.history['val_accuracy']\n",
    "\n",
    "loss = history.history['loss']\n",
    "val_loss = history.history['val_loss']\n",
    "\n",
    "epochs_range = range(EPOCHS)\n",
    "\n",
    "plt.figure(figsize=(15, 8))\n",
    "plt.subplot(1, 2, 1)\n",
    "plt.plot(epochs_range, acc, label='Train data')\n",
    "plt.plot(epochs_range, val_acc, label='Test data')\n",
    "plt.legend(loc='lower right')\n",
    "plt.xlabel('Epochs')\n",
    "plt.ylabel('Accuracy')\n",
    "\n",
    "plt.subplot(1, 2, 2)\n",
    "plt.plot(epochs_range, loss, label='Train data')\n",
    "plt.plot(epochs_range, val_loss, label='Test data')\n",
    "plt.legend(loc='upper right')\n",
    "plt.xlabel('Epochs')\n",
    "plt.ylabel('Loss')\n",
    "#plt.savefig('./foo.png')\n",
    "plt.show()"
   ]
  },
  {
   "cell_type": "markdown",
   "metadata": {},
   "source": [
    "## Predictions"
   ]
  },
  {
   "cell_type": "code",
   "execution_count": 188,
   "metadata": {},
   "outputs": [],
   "source": [
    "# Data downloading for predictions:\n",
    "def load_image(img_path, show=True):\n",
    "    #imread = tf.keras.preprocessing.image.load_img(img_path)\n",
    "    img = tf.keras.preprocessing.image.load_img(img_path,\n",
    "                                                target_size=(IMG_SIZE, IMG_SIZE),\n",
    "                                                interpolation='bicubic')\n",
    "    img_tensor = tf.keras.preprocessing.image.img_to_array(img)\n",
    "    img_tensor = np.array([img_tensor])\n",
    "    #img_tensor /= 255.\n",
    "    \n",
    "    return img_tensor"
   ]
  },
  {
   "cell_type": "code",
   "execution_count": 203,
   "metadata": {},
   "outputs": [],
   "source": [
    "# File-lists for predictions:\n",
    "test_g = os.listdir(os.path.join(test_dir, label_list[0]))\n",
    "test_ng = os.listdir(os.path.join(test_dir, label_list[1]))"
   ]
  },
  {
   "cell_type": "code",
   "execution_count": 215,
   "metadata": {},
   "outputs": [],
   "source": [
    "# Get predictions:\n",
    "g_pred = [round(model.predict(g)[0][0]) for g in\n",
    "          [load_image(os.path.join(test_dir, label_list[0], x)) for x in test_g]\n",
    "         ]\n",
    "ng_pred = [round(model.predict(g)[0][0]) for g in\n",
    "           [load_image(os.path.join(test_dir, label_list[1], x)) for x in test_ng]\n",
    "          ]\n",
    "\n",
    "# Get true classes:\n",
    "g_true = [0 for g in range(len(test_g))]\n",
    "ng_true = [1 for ng in range(len(test_ng))]"
   ]
  },
  {
   "cell_type": "code",
   "execution_count": 224,
   "metadata": {},
   "outputs": [
    {
     "name": "stdout",
     "output_type": "stream",
     "text": [
      "              precision    recall  f1-score   support\n",
      "\n",
      "      george       0.84      0.28      0.42       523\n",
      "  non_george       0.57      0.95      0.71       523\n",
      "\n",
      "    accuracy                           0.61      1046\n",
      "   macro avg       0.70      0.61      0.57      1046\n",
      "weighted avg       0.70      0.61      0.57      1046\n",
      "\n"
     ]
    }
   ],
   "source": [
    "print(classification_report(g_true+ng_true,\n",
    "                            g_pred+ng_pred,\n",
    "                            target_names=['george', 'non_george']))"
   ]
  }
 ],
 "metadata": {
  "kernelspec": {
   "display_name": "Python 3",
   "language": "python",
   "name": "python3"
  },
  "language_info": {
   "codemirror_mode": {
    "name": "ipython",
    "version": 3
   },
   "file_extension": ".py",
   "mimetype": "text/x-python",
   "name": "python",
   "nbconvert_exporter": "python",
   "pygments_lexer": "ipython3",
   "version": "3.8.5"
  }
 },
 "nbformat": 4,
 "nbformat_minor": 4
}
